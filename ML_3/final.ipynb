{
 "cells": [
  {
   "attachments": {
    "image.png": {
     "image/png": "[encoded data removed]"
    }
   },
   "cell_type": "markdown",
   "metadata": {},
   "source": [
    "![image.png](attachment:image.png)\n",
    "\n",
    "## Домашнее задание \"Финальное\""
   ]
  },
  {
   "cell_type": "markdown",
   "metadata": {},
   "source": [
    "Закрепляем и отрабатываем все знания, полученные на курсе! Для работы используйте набор данных по [ссылке](https://raw.githubusercontent.com/catprokhorova/HW_datasets/main/ML_3/Global%20YouTube%20Statistics.csv).\n",
    "\n",
    "Описание датасета:\n",
    "- rank: Position of the YouTube channel based on the number of subscribers\n",
    "- Youtuber: Name of the YouTube channel\n",
    "- subscribers: Number of subscribers to the channel\n",
    "- video views: Total views across all videos on the channel\n",
    "- category: Category or niche of the channel\n",
    "- Title: Title of the YouTube channel\n",
    "- uploads: Total number of videos uploaded on the channel\n",
    "- Country: Country where the YouTube channel originates\n",
    "- Abbreviation: Abbreviation of the country\n",
    "- channel_type: Type of the YouTube channel (e.g., individual, brand)\n",
    "- video_views_rank: Ranking of the channel based on total video views\n",
    "- country_rank: Ranking of the channel based on the number of subscribers within its country\n",
    "- channel_type_rank: Ranking of the channel based on its type (individual or brand)\n",
    "- video_views_for_the_last_30_days: Total video views in the last 30 days\n",
    "- lowest_monthly_earnings: Lowest estimated monthly earnings from the channel\n",
    "- highest_monthly_earnings: Highest estimated monthly earnings from the channel\n",
    "- lowest_yearly_earnings: Lowest estimated yearly earnings from the channel\n",
    "- highest_yearly_earnings: Highest estimated yearly earnings from the channel\n",
    "- subscribers_for_last_30_days: Number of new subscribers gained in the last 30 days\n",
    "- created_year: Year when the YouTube channel was created\n",
    "- created_month: Month when the YouTube channel was created\n",
    "- created_date: Exact date of the YouTube channel's creation\n",
    "- Gross tertiary education enrollment (%): Percentage of the population enrolled in tertiary education in the country\n",
    "- Population: Total population of the country\n",
    "- Unemployment rate: Unemployment rate in the country\n",
    "- Urban_population: Percentage of the population living in urban areas\n",
    "- Latitude: Latitude coordinate of the country's location\n",
    "- Longitude: Longitude coordinate of the country's location\n",
    "\n",
    "#### Задание 1. EDA\n",
    "Проведите разведовательный анализ данных ([EDA](https://teletype.in/@pythontalk/eda_instruments)). \n",
    "1. Задайте не менее 6 вопросов к данным и постарайтесь ответить на них, используя визуализацию. \n",
    "2. Изобразите [матрицу корреляций](https://www.geeksforgeeks.org/how-to-create-a-seaborn-correlation-heatmap-in-python/) для нахождения взаимосвязей.\n",
    "#### Задание 2. Корреляционный анализ\n",
    "1. Оставьте два коррелирующих столбца: `\"subscribers\"` и `\"video views\"`.\n",
    "2. Отфильтруйте данные - уберите те строки, где кол-во просмотров равно нулю.\n",
    "3. Рассчитайте коэффициент корреляции Пирсона.\n",
    "4. Определите `\"video views\"` как признак Х, а `\"subscribers\"` - как целевую переменную.\n",
    "5. Разделите выботку на тестовую и тренировочную.\n",
    "6. Постройте модель линейной регрессии.\n",
    "7. Рассчитайте точность модели на тестовой выборке.\n",
    "\n",
    "\\* Как изменится точность, если опустить пункт 2 и не убирать из данных нулевые просмотры?\n",
    "#### Задание 3. Классификация\n",
    "1. Определите две самые популярные категории канала и отфильтруйте по ним набор данных.\n",
    "2. В качестве признаков используйте следующие столбцы: `['video views', 'subscribers', 'uploads']`\n",
    "3. Снова отфильтруйте данные - уберите те строки, где кол-во просмотров равно нулю.\n",
    "4. Для целевой переменной используйте столбец `'category'`. Значения по нему закодируйте с помощью [LabelEncoder](https://scikit-learn.org/stable/modules/generated/sklearn.preprocessing.LabelEncoder.html).\n",
    "5. Разделите выботку на тестовую и тренировочную, укажите `random_state=13`.`\n",
    "6. Постройте модель логистической регрессии.\n",
    "7. Рассчитайте точность модели на тестовой выборке.\n",
    "\n",
    "\\* Изменится ли точность модели, если в качестве признаков выбрать другие столбцы?"
   ]
  },
  {
   "cell_type": "markdown",
   "metadata": {},
   "source": [
    "**Требования по оформлению графиков:**\n",
    "\n",
    "У графиков должен быть заголовок, подписи осей, легенда (опционально). Каждая визуализация должным образом оформлена и может быть интерпретирована даже в отрыве от контекста.\n",
    "\n",
    "**Важно!**\n",
    "\n",
    "Оставляйте свои комментарии к графикам: отвечает ли визуализация на поставленный вопрос, что вы наблюдаете в данных, какие выводы можно сделать и т.д. Ход ваших мыслей так же важен, как и написанный вами код."
   ]
  },
  {
   "cell_type": "markdown",
   "metadata": {},
   "source": [
    "#### Примечание\n",
    "Домашнее задание сдается ссылкой [Google Colab](https://colab.research.google.com/). Мы не сможем проверить его или помочь, если вы пришлете:\n",
    "\n",
    "- файлы;\n",
    "- архивы;\n",
    "- скриншоты кода.\n",
    "\n",
    "Все обсуждения и консультации по выполнению домашнего задания ведутся только на соответствующем канале в Discord.\n",
    "\n",
    "**Как правильно задавать вопросы аспирантам, преподавателям и коллегам:**\n",
    "\n",
    "Прежде чем задать вопрос, попробуйте найти ответ в интернете. Навык самостоятельного поиска информации — один из важнейших. Каждый практикующий специалист любого уровня делает это ежедневно.\n",
    "\n",
    "Сформулируйте вопрос по алгоритму:\n",
    "\n",
    "1) Что я делаю?\n",
    "2) Какого результата я ожидаю?\n",
    "3) Как фактический результат отличается от ожидаемого?\n",
    "4) Что я уже попробовал сделать, чтобы исправить проблему?\n",
    "\n",
    "По возможности прикрепите к вопросу скриншоты либо ссылки на код. Не выкладывайте все решение, оставляйте только проблемный и воспроизводимый участок кода."
   ]
  },
  {
   "cell_type": "code",
   "execution_count": 29,
   "metadata": {},
   "outputs": [],
   "source": [
    "import pandas as pd\n",
    "import matplotlib.pyplot as plt\n",
    "import seaborn as sns"
   ]
  },
  {
   "cell_type": "code",
   "execution_count": 73,
   "metadata": {},
   "outputs": [],
   "source": [
    "df = pd.read_csv(\"Global YouTube Statistics.csv\", encoding='unicode_escape')"
   ]
  },
  {
   "cell_type": "code",
   "execution_count": 31,
   "metadata": {},
   "outputs": [],
   "source": [
    "from sklearn.model_selection import train_test_split\n",
    "from sklearn.linear_model import LinearRegression\n",
    "from sklearn.linear_model import LogisticRegression\n",
    "from sklearn.pipeline import make_pipeline\n",
    "from sklearn.preprocessing import StandardScaler\n",
    "from sklearn.preprocessing import LabelEncoder\n",
    "from numpy import NaN"
   ]
  },
  {
   "cell_type": "code",
   "execution_count": 56,
   "metadata": {},
   "outputs": [],
   "source": [
    "# df = df.loc[~(df['Country'].isna())]\n",
    "# df = df.loc[~(df['created_year'].isna())]\n",
    "# df = df.loc[~(df['subscribers_for_last_30_days'].isna())]"
   ]
  },
  {
   "cell_type": "code",
   "execution_count": 74,
   "metadata": {},
   "outputs": [],
   "source": [
    "categories_to_select = ['Entertainment', 'Music']\n",
    "df2 = df[df['category'].isin(categories_to_select)]"
   ]
  },
  {
   "cell_type": "code",
   "execution_count": 75,
   "metadata": {},
   "outputs": [],
   "source": [
    "X = df2[['video views','subscribers', 'uploads', 'category']]\n",
    "X = X.loc[(X['video views'] > 0)]\n",
    "del X['category']"
   ]
  },
  {
   "cell_type": "code",
   "execution_count": 76,
   "metadata": {},
   "outputs": [],
   "source": [
    "le = LabelEncoder()\n",
    "le.fit(df2['category'])\n",
    "y = pd.Series(data = le.transform(df2['category']))"
   ]
  },
  {
   "cell_type": "code",
   "execution_count": 77,
   "metadata": {},
   "outputs": [
    {
     "name": "stdout",
     "output_type": "stream",
     "text": [
      "Точность тестовой выборки: 60%\n"
     ]
    }
   ],
   "source": [
    "model = LogisticRegression()\n",
    "X_train, X_test, y_train, y_test = train_test_split(X, y, test_size=0.2, random_state=13)\n",
    "\n",
    "model.fit(X_train, y_train)\n",
    "predictions = model.predict(X_test)\n",
    "print(f\"Точность тестовой выборки: {round(model.score(X_test, y_test) * 100)}%\")"
   ]
  }
 ],
 "metadata": {
  "kernelspec": {
   "display_name": "datasets",
   "language": "python",
   "name": "python3"
  },
  "language_info": {
   "codemirror_mode": {
    "name": "ipython",
    "version": 3
   },
   "file_extension": ".py",
   "mimetype": "text/x-python",
   "name": "python",
   "nbconvert_exporter": "python",
   "pygments_lexer": "ipython3",
   "version": "3.10.8"
  },
  "orig_nbformat": 4
 },
 "nbformat": 4,
 "nbformat_minor": 2
}
